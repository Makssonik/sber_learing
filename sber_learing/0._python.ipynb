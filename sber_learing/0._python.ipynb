{
 "cells": [
  {
   "cell_type": "code",
   "execution_count": null,
   "metadata": {},
   "outputs": [],
   "source": [
    "# импортируем необходимые библиотеки\n",
    "from sklearn.linear_model import LinearRegression\n",
    "import numpy as np"
   ]
  },
  {
   "cell_type": "code",
   "execution_count": null,
   "metadata": {},
   "outputs": [],
   "source": [
    "# Задаем переменные\n",
    "x = [0, 1, 2, 3, 4, 5, 6, 7, 8, 9]\n",
    "y_i = [\n",
    "    12.610654939605288,\n",
    "    17.062175816822194,\n",
    "    19.392897293192227,\n",
    "    25.948952562067266,\n",
    "    33.23886266512611,\n",
    "    38.61547096954063,\n",
    "    40.996878827509775,\n",
    "    45.85003736670118,\n",
    "    43.58940088629591,\n",
    "    52.83842473502935,\n",
    "]\n",
    "y_j = [13.090377666732092 + 4.4275550976570885 * i for i in x]\n",
    "y_5 = [\n",
    "    12.610654939605288,\n",
    "    17.062175816822194,\n",
    "    19.392897293192227,\n",
    "    25.948952562067266,\n",
    "    33.23886266512611,\n",
    "    38.61547096954063,\n",
    "    40.996878827509775,\n",
    "    45.85003736670118,\n",
    "    43.58940088629591,\n",
    "    52.83842473502935,\n",
    "]\n"
   ]
  },
  {
   "cell_type": "code",
   "execution_count": null,
   "metadata": {},
   "outputs": [],
   "source": [
    "# функция MSE\n",
    "rt = 15\n",
    "tbsl_f = 14\n",
    "\n",
    "\n",
    "def MSE(y_i: list, y_t: list) -> float:\n",
    "    c = 0\n",
    "    for i in range(len(y_i)):\n",
    "        c += (y_i[i] - y_t[i]) ** 2\n",
    "    d = c / len(y_i)\n",
    "    return d\n"
   ]
  },
  {
   "cell_type": "code",
   "execution_count": null,
   "metadata": {},
   "outputs": [
    {
     "data": {
      "text/plain": [
       "5.37030453588202"
      ]
     },
     "execution_count": 12,
     "metadata": {},
     "output_type": "execute_result"
    }
   ],
   "source": [
    "MSE(y_i, y_j)"
   ]
  },
  {
   "cell_type": "code",
   "execution_count": null,
   "metadata": {},
   "outputs": [],
   "source": [
    "# функция для регрессии с использованием градиентного спуска\n",
    "def func_reg(x_i: list, y_i: list, a=1, b=1):\n",
    "    d_mse = 100000000000000000\n",
    "    while True:\n",
    "        y_j = [a + b * i for i in x_i]\n",
    "        n_mse = MSE(y_i, y_j)\n",
    "        if n_mse > d_mse:\n",
    "            break\n",
    "        else:\n",
    "            b += 0.1\n",
    "            d_mse = n_mse\n",
    "            print(d_mse)\n",
    "    return {\"a\": a, \"b\": b, \"MSE\": d_mse}"
   ]
  },
  {
   "cell_type": "code",
   "execution_count": null,
   "metadata": {},
   "outputs": [],
   "source": [
    "func_reg(x, y_i, 11)"
   ]
  },
  {
   "cell_type": "code",
   "execution_count": null,
   "metadata": {},
   "outputs": [
    {
     "name": "stdout",
     "output_type": "stream",
     "text": [
      "Коэффициент наклона (slope): 4.4275550976570885\n",
      "Свободный член (intercept): 13.090377666732092\n"
     ]
    }
   ],
   "source": [
    "# применяем регрессию на основе scikit-learn\n",
    "x = np.array(x).reshape(-1, 1)\n",
    "y = np.array(y_i)  # y_i также преобразуем в массив numpy\n",
    "\n",
    "# Создаем и обучаем модель линейной регрессии\n",
    "model = LinearRegression()\n",
    "model.fit(x, y)\n",
    "\n",
    "# Получаем коэффициенты\n",
    "slope = model.coef_[0]  # коэффициент наклона\n",
    "intercept = model.intercept_  # свободный член\n",
    "\n",
    "print(f\"Коэффициент наклона (slope): {slope}\")\n",
    "print(f\"Свободный член (intercept): {intercept}\")"
   ]
  }
 ],
 "metadata": {
  "kernelspec": {
   "display_name": "sber-learing-qSqvwIG2-py3.13",
   "language": "python",
   "name": "python3"
  },
  "language_info": {
   "codemirror_mode": {
    "name": "ipython",
    "version": 3
   },
   "file_extension": ".py",
   "mimetype": "text/x-python",
   "name": "python",
   "nbconvert_exporter": "python",
   "pygments_lexer": "ipython3",
   "version": "3.13.0"
  }
 },
 "nbformat": 4,
 "nbformat_minor": 2
}
